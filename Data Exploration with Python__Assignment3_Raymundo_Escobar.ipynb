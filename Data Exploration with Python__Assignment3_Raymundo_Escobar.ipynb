{
 "cells": [
  {
   "cell_type": "markdown",
   "metadata": {},
   "source": [
    "# Problem 1"
   ]
  },
  {
   "cell_type": "code",
   "execution_count": 2,
   "metadata": {
    "id": "MpW7bOiFuoJi"
   },
   "outputs": [],
   "source": [
    "import pandas as pd\n",
    "import numpy as np\n",
    "import re"
   ]
  },
  {
   "cell_type": "code",
   "execution_count": 3,
   "metadata": {
    "id": "_g167F-6u9ma"
   },
   "outputs": [],
   "source": [
    "#EuroTYC = pd.read_csv(\"Euro 2012 stats TEAM.csv\", usecols=['Team', 'Yellow Cards'])\n",
    "#EuroTYC.columns = EuroTYC.columns.str.replace(' ','_')\n",
    "EuroAll = pd.read_csv('Euro 2012 stats TEAM.csv')\n",
    "EuroAll.columns = EuroAll.columns.str.replace(' ','_')\n",
    "SA = pd.read_csv('Euro 2012 stats TEAM.csv')\n",
    "SA.columns = EuroAll.columns.str.replace(' ','_')\n",
    "#|EuroAll.head(3)"
   ]
  },
  {
   "cell_type": "markdown",
   "metadata": {},
   "source": [
    "b) Find the team that has the best shooting accuracy. "
   ]
  },
  {
   "cell_type": "code",
   "execution_count": 4,
   "metadata": {},
   "outputs": [
    {
     "name": "stdout",
     "output_type": "stream",
     "text": [
      "the team that has the highest scooring accuracy is Spain\n"
     ]
    }
   ],
   "source": [
    "\n",
    "SA.Shooting_Accuracy=SA.Shooting_Accuracy.map(lambda x: re.sub(r'[^\\d.]+', '', x)).astype(float)\n",
    "SA.loc[:,['Team','Shooting_Accuracy']].sort_values(by='Shooting_Accuracy',ascending=False)\n",
    "#EuroAll.dtypes\n",
    "#SA.groupby('Shooting_Accuracy',as_index=['Team'])['Team'].max()\n",
    "SA=SA.query('Shooting_Accuracy>55')['Team']\n",
    "print(f\"the team that has the highest scooring accuracy is {SA.values[0]}\")\n",
    "\n",
    "#SA=EuroAll.replace('[^\\d.]', '',regex=True).astype(float)\n",
    "#re.sub(r'(((?<=\\s)|^)[a-z])', lambda i: i.group().upper(), st)\n",
    "#EuroAll.replace(to_replace=r'',value='',)\n",
    "#Ask why I need to read the file again when I need to run the cell twice,\n",
    "#first time do things ok, but second time is required to run the previous cell"
   ]
  },
  {
   "cell_type": "markdown",
   "metadata": {},
   "source": [
    "a) Find the teams that have lowest and highest number of yellow cards. Note that more than one\n",
    "country can have the same maximum number or minimum number of yellow cards. "
   ]
  },
  {
   "cell_type": "code",
   "execution_count": 5,
   "metadata": {},
   "outputs": [
    {
     "name": "stdout",
     "output_type": "stream",
     "text": [
      "Countries that have minimun number of Yellow cards:\n",
      " Italy\n",
      "Countries that have maximun number of Yellow cards:\n",
      " Denmark \n",
      " Germany\n"
     ]
    }
   ],
   "source": [
    "EuroAll=EuroAll[['Team','Yellow_Cards']].sort_values(by='Yellow_Cards',ascending=False)\n",
    "maxYC=EuroAll.iloc[[0]].values[0][0]\n",
    "print(f\"Countries that have minimun number of Yellow cards:\\n {maxYC}\")\n",
    "EuroAll=EuroAll[['Team','Yellow_Cards']].sort_values(by='Yellow_Cards',ascending=True)\n",
    "minYC=EuroAll.iloc[[0,1]].values[:,0]\n",
    "print(f\"Countries that have maximun number of Yellow cards:\\n {minYC[0]} \\n {minYC[1]}\")"
   ]
  },
  {
   "cell_type": "code",
   "execution_count": 6,
   "metadata": {},
   "outputs": [],
   "source": [
    "#tyc=EuroAll.iloc[:,[0,-5]].sort_values(by='Yellow_Cards',ascending=False)\n",
    "#tyc"
   ]
  },
  {
   "cell_type": "code",
   "execution_count": 6,
   "metadata": {},
   "outputs": [],
   "source": [
    "#mtyc=tyc.iloc[0].values[0]\n",
    "#wtyc=tyc.groupby('Yellow_Cards',as_index=['Team'], sort=False)[['Team']].min()\n",
    "#wtyc\n"
   ]
  },
  {
   "cell_type": "code",
   "execution_count": 7,
   "metadata": {},
   "outputs": [],
   "source": [
    "#EuroAll.iloc[:,0:10]\n",
    "\n",
    "\n",
    "#Euro2cols = EuroAll.concat([tw,tr],axis=1,join='outer',keys=['Team', 'Yellow_Cards'])\n",
    "\n",
    "\n",
    "#EuroAll.iloc[:,-5:-1])\n",
    "\n",
    "#df.pivot_table(values='Yellow_Cards',index='Team',aggfunc=[\"max\",\"min\"])\n",
    "\n",
    "\n"
   ]
  },
  {
   "cell_type": "markdown",
   "metadata": {},
   "source": [
    "# Problem 2"
   ]
  },
  {
   "cell_type": "code",
   "execution_count": 51,
   "metadata": {},
   "outputs": [],
   "source": [
    "AS = pd.read_csv('AutoSurvey.csv')"
   ]
  },
  {
   "cell_type": "code",
   "execution_count": 52,
   "metadata": {},
   "outputs": [
    {
     "name": "stdout",
     "output_type": "stream",
     "text": [
      "Gender          object\n",
      "Type            object\n",
      "Purchased       object\n",
      "Vehicle_Age    float64\n",
      "Mileage          int64\n",
      "MPG            float64\n",
      "dtype: object\n"
     ]
    },
    {
     "data": {
      "text/html": [
       "<div>\n",
       "<style scoped>\n",
       "    .dataframe tbody tr th:only-of-type {\n",
       "        vertical-align: middle;\n",
       "    }\n",
       "\n",
       "    .dataframe tbody tr th {\n",
       "        vertical-align: top;\n",
       "    }\n",
       "\n",
       "    .dataframe thead th {\n",
       "        text-align: right;\n",
       "    }\n",
       "</style>\n",
       "<table border=\"1\" class=\"dataframe\">\n",
       "  <thead>\n",
       "    <tr style=\"text-align: right;\">\n",
       "      <th></th>\n",
       "      <th>Gender</th>\n",
       "      <th>Type</th>\n",
       "      <th>Purchased</th>\n",
       "      <th>Vehicle_Age</th>\n",
       "      <th>Mileage</th>\n",
       "      <th>MPG</th>\n",
       "    </tr>\n",
       "  </thead>\n",
       "  <tbody>\n",
       "    <tr>\n",
       "      <th>0</th>\n",
       "      <td>Male</td>\n",
       "      <td>Mid-size</td>\n",
       "      <td>Used</td>\n",
       "      <td>15.0</td>\n",
       "      <td>127233</td>\n",
       "      <td>28.7</td>\n",
       "    </tr>\n",
       "    <tr>\n",
       "      <th>1</th>\n",
       "      <td>Female</td>\n",
       "      <td>Mid-size</td>\n",
       "      <td>New</td>\n",
       "      <td>1.0</td>\n",
       "      <td>23970</td>\n",
       "      <td>43.4</td>\n",
       "    </tr>\n",
       "    <tr>\n",
       "      <th>2</th>\n",
       "      <td>Male</td>\n",
       "      <td>Small</td>\n",
       "      <td>New</td>\n",
       "      <td>7.0</td>\n",
       "      <td>77392</td>\n",
       "      <td>24.0</td>\n",
       "    </tr>\n",
       "    <tr>\n",
       "      <th>3</th>\n",
       "      <td>Female</td>\n",
       "      <td>Large SUV</td>\n",
       "      <td>Used</td>\n",
       "      <td>14.0</td>\n",
       "      <td>185397</td>\n",
       "      <td>15.2</td>\n",
       "    </tr>\n",
       "    <tr>\n",
       "      <th>4</th>\n",
       "      <td>Female</td>\n",
       "      <td>Small</td>\n",
       "      <td>New</td>\n",
       "      <td>2.0</td>\n",
       "      <td>26001</td>\n",
       "      <td>37.0</td>\n",
       "    </tr>\n",
       "  </tbody>\n",
       "</table>\n",
       "</div>"
      ],
      "text/plain": [
       "   Gender       Type Purchased  Vehicle_Age  Mileage   MPG\n",
       "0    Male   Mid-size      Used         15.0   127233  28.7\n",
       "1  Female   Mid-size       New          1.0    23970  43.4\n",
       "2    Male      Small       New          7.0    77392  24.0\n",
       "3  Female  Large SUV      Used         14.0   185397  15.2\n",
       "4  Female      Small       New          2.0    26001  37.0"
      ]
     },
     "execution_count": 52,
     "metadata": {},
     "output_type": "execute_result"
    }
   ],
   "source": [
    "print(AS.dtypes)\n",
    "AS.head()\n",
    "#AS.groupby(['Type','Purchased'],as_index=['Type','Purchased'])['Mileage'].mean()"
   ]
  },
  {
   "cell_type": "markdown",
   "metadata": {},
   "source": [
    "a) Print average mileage for each car type. Average of mileages should be grouped into columns\n",
    "as New and Used, as shown below. "
   ]
  },
  {
   "cell_type": "code",
   "execution_count": 53,
   "metadata": {},
   "outputs": [
    {
     "data": {
      "text/html": [
       "<div>\n",
       "<style scoped>\n",
       "    .dataframe tbody tr th:only-of-type {\n",
       "        vertical-align: middle;\n",
       "    }\n",
       "\n",
       "    .dataframe tbody tr th {\n",
       "        vertical-align: top;\n",
       "    }\n",
       "\n",
       "    .dataframe thead tr th {\n",
       "        text-align: left;\n",
       "    }\n",
       "\n",
       "    .dataframe thead tr:last-of-type th {\n",
       "        text-align: right;\n",
       "    }\n",
       "</style>\n",
       "<table border=\"1\" class=\"dataframe\">\n",
       "  <thead>\n",
       "    <tr>\n",
       "      <th></th>\n",
       "      <th colspan=\"2\" halign=\"left\">Mileage</th>\n",
       "    </tr>\n",
       "    <tr>\n",
       "      <th>Purchased</th>\n",
       "      <th>New</th>\n",
       "      <th>Used</th>\n",
       "    </tr>\n",
       "    <tr>\n",
       "      <th>Type</th>\n",
       "      <th></th>\n",
       "      <th></th>\n",
       "    </tr>\n",
       "  </thead>\n",
       "  <tbody>\n",
       "    <tr>\n",
       "      <th>Large SUV</th>\n",
       "      <td>130905.000000</td>\n",
       "      <td>185397.0</td>\n",
       "    </tr>\n",
       "    <tr>\n",
       "      <th>Mid-size</th>\n",
       "      <td>11424.333333</td>\n",
       "      <td>106810.0</td>\n",
       "    </tr>\n",
       "    <tr>\n",
       "      <th>Minivan</th>\n",
       "      <td>180643.000000</td>\n",
       "      <td>182584.0</td>\n",
       "    </tr>\n",
       "    <tr>\n",
       "      <th>Small</th>\n",
       "      <td>80405.833333</td>\n",
       "      <td>131022.4</td>\n",
       "    </tr>\n",
       "    <tr>\n",
       "      <th>Small SUV</th>\n",
       "      <td>29823.000000</td>\n",
       "      <td>113121.0</td>\n",
       "    </tr>\n",
       "  </tbody>\n",
       "</table>\n",
       "</div>"
      ],
      "text/plain": [
       "                 Mileage          \n",
       "Purchased            New      Used\n",
       "Type                              \n",
       "Large SUV  130905.000000  185397.0\n",
       "Mid-size    11424.333333  106810.0\n",
       "Minivan    180643.000000  182584.0\n",
       "Small       80405.833333  131022.4\n",
       "Small SUV   29823.000000  113121.0"
      ]
     },
     "execution_count": 53,
     "metadata": {},
     "output_type": "execute_result"
    }
   ],
   "source": [
    "AS.pivot_table(values=['Mileage'],index='Type',columns=\"Purchased\",aggfunc='mean',fill_value=0)"
   ]
  },
  {
   "cell_type": "markdown",
   "metadata": {},
   "source": [
    "b) For each car type find the difference between maximum and minimum Vehichle Age."
   ]
  },
  {
   "cell_type": "code",
   "execution_count": 56,
   "metadata": {},
   "outputs": [
    {
     "data": {
      "text/html": [
       "<div>\n",
       "<style scoped>\n",
       "    .dataframe tbody tr th:only-of-type {\n",
       "        vertical-align: middle;\n",
       "    }\n",
       "\n",
       "    .dataframe tbody tr th {\n",
       "        vertical-align: top;\n",
       "    }\n",
       "\n",
       "    .dataframe thead th {\n",
       "        text-align: right;\n",
       "    }\n",
       "</style>\n",
       "<table border=\"1\" class=\"dataframe\">\n",
       "  <thead>\n",
       "    <tr style=\"text-align: right;\">\n",
       "      <th></th>\n",
       "      <th>Vehicle_Age</th>\n",
       "    </tr>\n",
       "    <tr>\n",
       "      <th>Type</th>\n",
       "      <th></th>\n",
       "    </tr>\n",
       "  </thead>\n",
       "  <tbody>\n",
       "    <tr>\n",
       "      <th>Large SUV</th>\n",
       "      <td>7.00</td>\n",
       "    </tr>\n",
       "    <tr>\n",
       "      <th>Mid-size</th>\n",
       "      <td>14.75</td>\n",
       "    </tr>\n",
       "    <tr>\n",
       "      <th>Minivan</th>\n",
       "      <td>5.00</td>\n",
       "    </tr>\n",
       "    <tr>\n",
       "      <th>Small</th>\n",
       "      <td>11.00</td>\n",
       "    </tr>\n",
       "    <tr>\n",
       "      <th>Small SUV</th>\n",
       "      <td>10.00</td>\n",
       "    </tr>\n",
       "  </tbody>\n",
       "</table>\n",
       "</div>"
      ],
      "text/plain": [
       "           Vehicle_Age\n",
       "Type                  \n",
       "Large SUV         7.00\n",
       "Mid-size         14.75\n",
       "Minivan           5.00\n",
       "Small            11.00\n",
       "Small SUV        10.00"
      ]
     },
     "execution_count": 56,
     "metadata": {},
     "output_type": "execute_result"
    }
   ],
   "source": [
    "#AS=AS.groupby('Type')['Vehicle_Age'].agg(['max','min']).diff(axis=1)\n",
    "AS.groupby('Type')[['Vehicle_Age']].apply(lambda x: x.max() - x.min())"
   ]
  }
 ],
 "metadata": {
  "colab": {
   "name": "Data Exploration with Python_ Assignmet3_Raymundo_Escobar.ipynb",
   "provenance": []
  },
  "kernelspec": {
   "display_name": "Python 3",
   "language": "python",
   "name": "python3"
  },
  "language_info": {
   "codemirror_mode": {
    "name": "ipython",
    "version": 3
   },
   "file_extension": ".py",
   "mimetype": "text/x-python",
   "name": "python",
   "nbconvert_exporter": "python",
   "pygments_lexer": "ipython3",
   "version": "3.8.8"
  }
 },
 "nbformat": 4,
 "nbformat_minor": 1
}
